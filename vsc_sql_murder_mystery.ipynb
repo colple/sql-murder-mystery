{
 "cells": [
  {
   "cell_type": "markdown",
   "metadata": {},
   "source": [
    "# SQL Murder Mystery"
   ]
  },
  {
   "cell_type": "markdown",
   "metadata": {},
   "source": [
    "**CONTENTS**<a id='toc0_'></a>    \n",
    "- 1. [Crime scene report research](#toc1_)    \n",
    "- 2. [Witness identification](#toc2_)    \n",
    "  - 2.1. [First witness](#toc2_1_)    \n",
    "  - 2.2. [Second witness](#toc2_2_)    \n",
    "- 3. [Witness interview](#toc3_)    \n",
    "- 4. [Murderer identification](#toc4_)    \n",
    "- 5. [Real villain identification](#toc5_)    \n",
    "  - 5.1. [Murderer interview](#toc5_1_)    \n",
    "  - 5.2. [Hired killer identification](#toc5_2_)    \n",
    "\n",
    "<!-- vscode-jupyter-toc-config\n",
    "\tnumbering=true\n",
    "\tanchor=true\n",
    "\tflat=false\n",
    "\tminLevel=2\n",
    "\tmaxLevel=6\n",
    "\t/vscode-jupyter-toc-config -->\n",
    "<!-- THIS CELL WILL BE REPLACED ON TOC UPDATE. DO NOT WRITE YOUR TEXT IN THIS CELL -->"
   ]
  },
  {
   "cell_type": "markdown",
   "metadata": {},
   "source": [
    "## 1. <a id='toc1_'></a>[Crime scene report research](#toc0_)"
   ]
  },
  {
   "cell_type": "markdown",
   "metadata": {},
   "source": [
    "**REMINDER:** The crime was a murder that occured sometimes on Jan.15,2018 and that it took place in SQL City."
   ]
  },
  {
   "cell_type": "code",
   "execution_count": null,
   "metadata": {},
   "outputs": [],
   "source": [
    "SELECT *\n",
    "FROM crime_scene_report\n",
    "WHERE\n",
    "    LOWER(type) = 'murder'\n",
    "    AND LOWER(city) = 'sql city';"
   ]
  },
  {
   "cell_type": "markdown",
   "metadata": {},
   "source": [
    "This query led to 3 results: 2 murders that occured on Feb.15,2018 and 1 that occured on Jan.15, 2018. We remember that the murder occured sometimes on Jan.15, 2018. Thus, only only result matches...\n",
    "\n",
    "**Murder description (date: Jan 15., 2018 - type: murder - city SQL: city)**: Security footage shows that there were 2 witnesseses. The first witness lives at the **last house on \"Northwestern Dr\"**. The second witness, named **Annabel**, lives somewhere on **\"Franklin Ave\"**. "
   ]
  },
  {
   "cell_type": "markdown",
   "metadata": {},
   "source": [
    "## 2. <a id='toc2_'></a>[Witness identification](#toc0_)"
   ]
  },
  {
   "cell_type": "markdown",
   "metadata": {},
   "source": [
    "### 2.1. <a id='toc2_1_'></a>[First witness](#toc0_)"
   ]
  },
  {
   "cell_type": "code",
   "execution_count": null,
   "metadata": {},
   "outputs": [],
   "source": [
    "SELECT *\n",
    "FROM person\n",
    "WHERE LOWER(address_street_name) LIKE 'northwestern dr' ORDER BY address_number DESC LIMIT 1;"
   ]
  },
  {
   "cell_type": "markdown",
   "metadata": {},
   "source": [
    "**TOP:** This query returns only 1 result.\n",
    "- id = 14887\n",
    "- name = Morty Shapiro\n",
    "- license_id = 118009\n",
    "- address_number = 4919\n",
    "- address_street_name = Northwester Dr\n",
    "- ssn = 111564949"
   ]
  },
  {
   "cell_type": "markdown",
   "metadata": {},
   "source": [
    "### 2.2. <a id='toc2_2_'></a>[Second witness](#toc0_)"
   ]
  },
  {
   "cell_type": "code",
   "execution_count": null,
   "metadata": {},
   "outputs": [],
   "source": [
    "SELECT *\n",
    "FROM person\n",
    "WHERE\n",
    "    LOWER(name) LIKE '%annabel%'\n",
    "    AND LOWER(address_street_name) LIKE 'franklin ave'"
   ]
  },
  {
   "cell_type": "markdown",
   "metadata": {},
   "source": [
    "**TOP**: This query also returns only 1 result.\n",
    "- id = 16371\n",
    "- name = Annabel Miller\n",
    "- license_id = 490173\n",
    "- address_number = 103\n",
    "- address_street_name = Franklin Ave\n",
    "- ssn = 318771143"
   ]
  },
  {
   "cell_type": "markdown",
   "metadata": {},
   "source": [
    "## 3. <a id='toc3_'></a>[Witness interview](#toc0_)"
   ]
  },
  {
   "cell_type": "code",
   "execution_count": null,
   "metadata": {},
   "outputs": [],
   "source": [
    "SELECT p.name, i.transcript\n",
    "FROM person p\n",
    "JOIN interview i\n",
    "    ON p.id = i.person_id\n",
    "WHERE p.id = 14887 OR p.id = 16371"
   ]
  },
  {
   "cell_type": "markdown",
   "metadata": {},
   "source": [
    "**Interview transcript of Morty Shapiro (id=14887):** I heard a gunshot and then saw a man run out. He had a **\"Get Fit Now Gym\"** bag. The **membership number** on the bag started with **\"48Z\"**. Only **\"Gold members**\" have these bags. The man got into a **car** with a **plate** that **included \"H42W\"**.\n",
    "\n",
    "**Interview transcript of Annabel Miller (id=16371):** I saw the murder happen, and I recognized the killer from my gym when I was working out last week on January the 9th.\n",
    "\n",
    "The second interview is not very useful. It just confirm that the murderer is a member of the \"Get Fit Now Gym\"."
   ]
  },
  {
   "cell_type": "markdown",
   "metadata": {},
   "source": [
    "## 4. <a id='toc4_'></a>[Murderer identification](#toc0_)"
   ]
  },
  {
   "cell_type": "code",
   "execution_count": null,
   "metadata": {},
   "outputs": [],
   "source": [
    "SELECT\n",
    "    gfnm.id,\n",
    "    gfnm.person_id,\n",
    "    gfnm.name,\n",
    "\tdl.gender,\n",
    "    gfnm.membership_status,\n",
    "    dl.plate_number\n",
    "FROM get_fit_now_member gfnm\n",
    "JOIN person p\n",
    "    ON gfnm.person_id = p.id\n",
    "JOIN drivers_license dl\n",
    "    ON p.license_id = dl.id\n",
    "WHERE \n",
    "    LOWER(gfnm.id) LIKE '48z%'\n",
    "    AND LOWER(gfnm.membership_status) = 'gold'\n",
    "\tAND LOWER(dl.gender) = 'male'\n",
    "    AND LOWER(dl.plate_number) LIKE '%h42w%';"
   ]
  },
  {
   "cell_type": "markdown",
   "metadata": {},
   "source": [
    "**TOP:** This query returns only 1 result, thus the murderer is found!!! It's **Jeremy Bowers**.\n",
    "- id = 48Z55\n",
    "- person_id = 67318\n",
    "- name = Jeremy Bowers\n",
    "- gender = male\n",
    "- membership_status = gold\n",
    "- plate_number = 0H42W2"
   ]
  },
  {
   "cell_type": "markdown",
   "metadata": {},
   "source": [
    "## 5. <a id='toc5_'></a>[Real villain identification](#toc0_)"
   ]
  },
  {
   "cell_type": "markdown",
   "metadata": {},
   "source": [
    "### 5.1. <a id='toc5_1_'></a>[Murderer interview](#toc0_)"
   ]
  },
  {
   "cell_type": "code",
   "execution_count": null,
   "metadata": {},
   "outputs": [],
   "source": [
    "SELECT *\n",
    "FROM interview\n",
    "WHERE person_id = 67318"
   ]
  },
  {
   "cell_type": "markdown",
   "metadata": {},
   "source": [
    "**Interview transcript:** I was hired by a **woman** with **lot of money**. I don't know her name but I known she's **around 5'55 (65\") and 5'7 (67\")**. She has **red hair** and she drives a **Tesla Model S**. I know that she attended the **SQL Symphony Concert 3 times in December 2017**."
   ]
  },
  {
   "cell_type": "markdown",
   "metadata": {},
   "source": [
    "### 5.2. <a id='toc5_2_'></a>[Hired killer identification](#toc0_)"
   ]
  },
  {
   "cell_type": "code",
   "execution_count": null,
   "metadata": {},
   "outputs": [],
   "source": [
    "SELECT\n",
    "    dl.id,\n",
    "    p.name,\n",
    "    p.ssn,\n",
    "    i.annual_income,\n",
    "    dl.height,\n",
    "    dl.hair_color,\n",
    "    dl.gender,\n",
    "    dl.car_make,\n",
    "    dl.car_model,\n",
    "    fec.event_name,\n",
    "\tfec.date    \n",
    "FROM drivers_license dl\n",
    "JOIN person p\n",
    "    ON dl.id = p.license_id\n",
    "JOIN income i\n",
    "    ON p.ssn = i.ssn\n",
    "JOIN facebook_event_checkin fec\n",
    "    ON fec.person_id = p.id\n",
    "WHERE\n",
    "    dl.height BETWEEN 65 AND 67\n",
    "    AND LOWER(dl.hair_color) = 'red'\n",
    "    AND LOWER(dl.car_make) = 'tesla'\n",
    "    AND LOWER(dl.car_model) LIKE '%s%'\n",
    "    AND LOWER(fec.event_name) = 'sql symphony concert';\n"
   ]
  },
  {
   "cell_type": "markdown",
   "metadata": {},
   "source": [
    "**TOP:** This query returns only 1 result, thus the real villain is found!!! The hired killer is **Amanda Priestly**."
   ]
  }
 ],
 "metadata": {
  "kernelspec": {
   "display_name": "LinkR",
   "language": "python",
   "name": "python3"
  },
  "language_info": {
   "name": "python",
   "version": "3.11.7"
  }
 },
 "nbformat": 4,
 "nbformat_minor": 2
}
